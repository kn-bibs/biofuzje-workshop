{
  "cells": [
    {
      "cell_type": "markdown",
      "metadata": {
        "id": "Y15dikfXWV2d"
      },
      "source": [
        "# Biopython notebook tutorial\n"
      ]
    },
    {
      "cell_type": "markdown",
      "metadata": {
        "id": "azVa0UBXWV2g"
      },
      "source": [
        "This basic tutorial shows you how to use Biopython and some of its functions."
      ]
    },
    {
      "cell_type": "markdown",
      "metadata": {
        "id": "f5nETgxSWV2h"
      },
      "source": [
        "## Setup"
      ]
    },
    {
      "cell_type": "markdown",
      "metadata": {
        "id": "ynoa946bWV2i"
      },
      "source": [
        "Imports"
      ]
    },
    {
      "cell_type": "code",
      "execution_count": null,
      "metadata": {
        "id": "1h3c5ZHUWV2j"
      },
      "outputs": [],
      "source": [
        "try:\n",
        "    import google.colab\n",
        "    # Running on Google Colab, so install Biopython and py3Dmol first\n",
        "    !pip install biopython\n",
        "    !pip install py3Dmol\n",
        "except ImportError:\n",
        "    pass"
      ]
    },
    {
      "cell_type": "code",
      "execution_count": null,
      "metadata": {
        "id": "WcYuXWFrWV2k"
      },
      "outputs": [],
      "source": [
        "import os\n",
        "import sys\n",
        "from urllib.request import urlretrieve\n",
        "import py3Dmol\n",
        "\n",
        "import Bio\n",
        "from Bio import SeqIO, SearchIO, AlignIO, Entrez, Phylo\n",
        "from Bio.SeqRecord import SeqRecord\n",
        "from Bio.Blast import NCBIWWW, NCBIXML\n",
        "import matplotlib.pyplot as plt\n",
        "from Bio.Seq import Seq\n",
        "from Bio.SeqUtils import gc_fraction\n",
        "from Bio.PDB import PDBList\n",
        "from Bio import pairwise2\n",
        "from Bio.pairwise2 import format_alignment\n",
        "\n",
        "Entrez.email = \"biofuzje1@gmail.com\""
      ]
    },
    {
      "cell_type": "markdown",
      "metadata": {
        "id": "efBBfaawWV2n"
      },
      "source": [
        "Input file"
      ]
    },
    {
      "cell_type": "code",
      "execution_count": null,
      "metadata": {
        "id": "e6XABGxIWV2n"
      },
      "outputs": [],
      "source": [
        "input_file = \"sequence_nucl.fasta\"\n",
        "fasta_loc = (\"https://raw.githubusercontent.com/kn-bibs/biofuzje-workshop/main/unknown_sequence.fasta\")\n",
        "\n",
        "\n",
        "if not os.path.exists(input_file):\n",
        "    urlretrieve(fasta_loc, input_file)"
      ]
    },
    {
      "cell_type": "markdown",
      "metadata": {
        "id": "KLL8_IgTWV2o"
      },
      "source": [
        "## Basic properties"
      ]
    },
    {
      "cell_type": "code",
      "execution_count": null,
      "metadata": {
        "id": "pwlSHYFeWV2o"
      },
      "outputs": [],
      "source": [
        "for record in SeqIO.parse(input_file, \"fasta\"):\n",
        "    print(record.id)"
      ]
    },
    {
      "cell_type": "markdown",
      "metadata": {
        "id": "xp1Ruki_WV2p"
      },
      "source": [
        "There is just a single sequence with header \"Unknown_sequence\". We are not\n",
        "dealing with many chromosomes, scaffolds or contigs."
      ]
    },
    {
      "cell_type": "markdown",
      "metadata": {
        "id": "U1LMGt9WWV2p"
      },
      "source": [
        "Extract the sequence"
      ]
    },
    {
      "cell_type": "code",
      "execution_count": null,
      "metadata": {
        "id": "w_IbgNdIWV2q"
      },
      "outputs": [],
      "source": [
        "record = SeqIO.read(input_file, \"fasta\")\n",
        "record.seq"
      ]
    },
    {
      "cell_type": "code",
      "execution_count": null,
      "metadata": {
        "id": "2LSvP16OWV2r"
      },
      "outputs": [],
      "source": [
        "print(\"Sequence length (bp)\")"
      ]
    },
    {
      "cell_type": "markdown",
      "metadata": {
        "id": "q1-FmEp8WV2r"
      },
      "source": [
        "The sequence length is 888b, it is pretty small."
      ]
    },
    {
      "cell_type": "code",
      "execution_count": null,
      "metadata": {
        "id": "atqvY2JUWV2s"
      },
      "outputs": [],
      "source": [
        "print(\"GC content\", gc_fraction(record))"
      ]
    },
    {
      "cell_type": "markdown",
      "metadata": {
        "id": "ozOlOahDWV2s"
      },
      "source": [
        "The GC content is ~0.40, it is within a 'normal' range."
      ]
    },
    {
      "cell_type": "code",
      "source": [
        " record.count(\"A\")"
      ],
      "metadata": {
        "id": "oEsOvnCNE2qk"
      },
      "execution_count": null,
      "outputs": []
    },
    {
      "cell_type": "markdown",
      "source": [
        "We can count nucleotides and specific motifs. There are 304 adenines in the sequence. Now, let's look for \"AGAG\" motifs."
      ],
      "metadata": {
        "id": "e5CBIJhvH_jb"
      }
    },
    {
      "cell_type": "code",
      "source": [],
      "metadata": {
        "id": "2Z7OzEyyE2Y4"
      },
      "execution_count": null,
      "outputs": []
    },
    {
      "cell_type": "markdown",
      "source": [
        "There are 9 \"AGAG\" motifs."
      ],
      "metadata": {
        "id": "anrmCqn3IInW"
      }
    },
    {
      "cell_type": "markdown",
      "source": [
        "We can easily create the reverse complement sequence."
      ],
      "metadata": {
        "id": "V331KtdcfW1V"
      }
    },
    {
      "cell_type": "code",
      "source": [
        "record.seq.reverse_complement()"
      ],
      "metadata": {
        "id": "KLosrqMpFUG1"
      },
      "execution_count": null,
      "outputs": []
    },
    {
      "cell_type": "markdown",
      "source": [
        "We can also quickly translate the nucleotide sequence to amino acids."
      ],
      "metadata": {
        "id": "vrDI2L__9CwQ"
      }
    },
    {
      "cell_type": "code",
      "source": [
        "protein_sequence = record.seq.translate(to_stop=False)\n",
        "protein_sequence"
      ],
      "metadata": {
        "id": "PuVWYbrQj3a9"
      },
      "execution_count": null,
      "outputs": []
    },
    {
      "cell_type": "markdown",
      "source": [
        "It is also very easy to check wheather the sequence start with a specific amino acid."
      ],
      "metadata": {
        "id": "OGvI-SQPfgmI"
      }
    },
    {
      "cell_type": "code",
      "source": [
        "print(\"Does the sequence begin with a start codon?\\n\",\n",
        "      protein_sequence.startswith(\"M\"))"
      ],
      "metadata": {
        "id": "KOdj7cSEB8sW"
      },
      "execution_count": null,
      "outputs": []
    },
    {
      "cell_type": "code",
      "source": [
        "print(\"Protein sequence length in amino acids\")"
      ],
      "metadata": {
        "id": "lS9pwxrnCTBB"
      },
      "execution_count": null,
      "outputs": []
    },
    {
      "cell_type": "markdown",
      "metadata": {
        "id": "oeUft6vDWV2s"
      },
      "source": [
        "## Comparing to other proteins"
      ]
    },
    {
      "cell_type": "markdown",
      "source": [
        "Let's use BLAST to align the unknown sequence to other annoated sequences in the NCBI protein database, which contains sequences from many different species. It may take around 5 minutes."
      ],
      "metadata": {
        "id": "vXh7aBz79PKV"
      }
    },
    {
      "cell_type": "code",
      "execution_count": null,
      "metadata": {
        "id": "KqPrGvMKWV2t"
      },
      "outputs": [],
      "source": [
        "result_handle = NCBIWWW.qblast(\"blastp\", \"nr\", protein_sequence, hitlist_size=100)\n",
        "blast_qresult = SearchIO.read(result_handle, \"blast-xml\")\n",
        "print(\"BLAST hits:\", len(blast_qresult.hits))"
      ]
    },
    {
      "cell_type": "code",
      "source": [
        "'''blast_file = \"blast.xml\"\n",
        "blast_loc = (\"https://raw.githubusercontent.com/kn-bibs/biofuzje-workshop/main/blast.xml\")\n",
        "\n",
        "if not os.path.exists(blast_file):\n",
        "  urlretrieve(blast_loc, blast_file)\n",
        "\n",
        "result_handle = open(blast_file, \"rb\")\n",
        "blast_qresult = SearchIO.read(result_handle, \"blast-xml\")\n",
        "print(\"BLAST hits:\", len(blast_qresult.hits))'''"
      ],
      "metadata": {
        "id": "QpTXA7Ti6Fsj"
      },
      "execution_count": null,
      "outputs": []
    },
    {
      "cell_type": "markdown",
      "source": [
        "Let's look at some of the first hits."
      ],
      "metadata": {
        "id": "jx4JjIi_JS4s"
      }
    },
    {
      "cell_type": "code",
      "source": [
        "for hit in blast_qresult.hits[:30]:\n",
        "  print(hit.id, hit.description)"
      ],
      "metadata": {
        "id": "nEaf3D_MGLbb"
      },
      "execution_count": null,
      "outputs": []
    },
    {
      "cell_type": "markdown",
      "source": [
        "It looks like our protein comes from Banana bunchy top virus. Let's look closer at the proteins founded by BLAST. First, let's find accesion numbers for our hits!"
      ],
      "metadata": {
        "id": "PwNcEFxC-Lwh"
      }
    },
    {
      "cell_type": "code",
      "source": [
        "accessions = []\n",
        "\n",
        "for hit in blast_qresult.hits:\n",
        "    pass\n"
      ],
      "metadata": {
        "id": "1YObNn8tjJx9"
      },
      "execution_count": null,
      "outputs": []
    },
    {
      "cell_type": "markdown",
      "metadata": {
        "id": "wcHTENStWV21"
      },
      "source": [
        "Let's extract a bit more structured meta-data on the top matching sequence homologous sequence using NCBI Entrez via Biopython to extract a GenBank file. Start by separating NCBI_id for the first hit."
      ]
    },
    {
      "cell_type": "code",
      "execution_count": null,
      "metadata": {
        "id": "mvm19lWKWV22"
      },
      "outputs": [],
      "source": [
        "NCBI_id="
      ]
    },
    {
      "cell_type": "markdown",
      "source": [
        "NCBI accession from the first hit is:NP_604483.1."
      ],
      "metadata": {
        "id": "2ZLJ_KgagSu9"
      }
    },
    {
      "cell_type": "markdown",
      "source": [
        "We can look at genbank record for our found protein."
      ],
      "metadata": {
        "id": "vgAXxHT2gYqI"
      }
    },
    {
      "cell_type": "code",
      "execution_count": null,
      "metadata": {
        "id": "J5DY1skNWV3B"
      },
      "outputs": [],
      "source": [
        "handle = Entrez.efetch(db=\"protein\", id= NCBI_id, retmode=\"text\", rettype=\"gb\")\n",
        "genbank_record = SeqIO.read(handle, \"genbank\")\n",
        "genbank_record"
      ]
    },
    {
      "cell_type": "markdown",
      "metadata": {
        "id": "8SUlvNwtWV3C"
      },
      "source": [
        "There's a lot of information in the genbank record if you know where to find it..."
      ]
    },
    {
      "cell_type": "code",
      "execution_count": null,
      "metadata": {
        "id": "KY-WZtpbWV3C"
      },
      "outputs": [],
      "source": [
        "print(\"What molecule type is it?\\n\",\n",
        "      genbank_record.annotations[\"molecule_type\"])"
      ]
    },
    {
      "cell_type": "code",
      "execution_count": null,
      "metadata": {
        "id": "XvvJUd5mWV3D"
      },
      "outputs": [],
      "source": [
        "print(\"What is the full NCBI taxonomy of the organism that this protein comes from?\\n\",\n",
        "      genbank_record.annotations[\"\"])"
      ]
    },
    {
      "cell_type": "code",
      "execution_count": null,
      "metadata": {
        "id": "onBYo9udWV3F"
      },
      "outputs": [],
      "source": [
        "print(\"How many features are there?\\n\", len(genbank_record.features))"
      ]
    },
    {
      "cell_type": "code",
      "execution_count": null,
      "metadata": {
        "id": "grzLg1IYWV3G"
      },
      "outputs": [],
      "source": [
        "print(\"What type of features are there?\")\n",
        "for feature in genbank_record.features:\n",
        "  print(feature.type)"
      ]
    },
    {
      "cell_type": "code",
      "execution_count": null,
      "metadata": {
        "id": "P4B_rZjiWV3D"
      },
      "outputs": [],
      "source": [
        "print(\"What are the relevant references/labs who generated the data?\\n\")\n",
        "for reference in genbank_record.annotations[\"references\"]:\n",
        "    print(reference)"
      ]
    },
    {
      "cell_type": "markdown",
      "metadata": {
        "id": "3Q1PuH-TWV3E"
      },
      "source": [
        "Now we can read up more about the protein."
      ]
    },
    {
      "cell_type": "markdown",
      "source": [
        "We can also compare found sequences. Let's allign our best hit with our unknown sequence. Can you see a hidden message?"
      ],
      "metadata": {
        "id": "lzRO9pyngmcy"
      }
    },
    {
      "cell_type": "code",
      "source": [
        "alignments = pairwise2.align.globalxx(protein_sequence, genbank_record.seq)\n",
        "\n",
        "for alignment in alignments:\n",
        "    print(format_alignment(*alignment))"
      ],
      "metadata": {
        "id": "Ofky-z6kO9ig"
      },
      "execution_count": null,
      "outputs": []
    },
    {
      "cell_type": "markdown",
      "metadata": {
        "id": "tYFcK-qBWV3P"
      },
      "source": [
        "##3D structures"
      ]
    },
    {
      "cell_type": "markdown",
      "source": [
        "Let's explore our ability to look at pretty proteins. This one is not related to our unknown sequence. It's just pretty."
      ],
      "metadata": {
        "id": "cLdxAXepiXv3"
      }
    },
    {
      "cell_type": "code",
      "source": [
        "pdb_code = \"6j5t\"\n",
        "\n",
        "pdb_filename = PDBList().retrieve_pdb_file(pdb_code, file_format=\"pdb\", pdir=\".\")\n",
        "\n",
        "with open(pdb_filename, \"r\") as file:\n",
        "    pdb_data = file.read()\n",
        "\n",
        "view = py3Dmol.view(width=800, height=600)\n",
        "view.addModel(pdb_data, \"pdb\")\n",
        "view.setStyle({\"cartoon\": {\"color\": \"spectrum\"}})\n",
        "view.zoomTo()\n",
        "view.show()"
      ],
      "metadata": {
        "id": "3OH3tkOYU1DZ"
      },
      "execution_count": null,
      "outputs": []
    },
    {
      "cell_type": "markdown",
      "metadata": {
        "id": "TRRL7HBVQ9GO"
      },
      "source": [
        "## Downloading Uniprot records\n",
        "Sometimes we need Uniprot accession number (for example for accessing alphafold.ebi.ac.uk database), but we only have NCBI ID. Then we can simply search Uniprot with that NCBI ID. To do that in Python we can call Uniprot API.\n",
        "Exaple URL for API call: https://rest.uniprot.org/uniprotkb/search?query=NP_976067&size=1"
      ]
    },
    {
      "cell_type": "code",
      "execution_count": null,
      "metadata": {
        "id": "7bV9Iy266nvj"
      },
      "outputs": [],
      "source": [
        "import requests, sys, json\n",
        "\n",
        "NCBI_id=\"A0A650G2E0\"\n",
        "\n",
        "params = {\n",
        "  \"query\": NCBI_id,\n",
        "  \"size\": \"1\"\n",
        "}\n",
        "headers = {\n",
        "  \"accept\": \"application/json\"\n",
        "}\n",
        "base_url = \"https://rest.uniprot.org/uniprotkb/search\"\n",
        "\n",
        "response = requests.get(base_url, headers=headers, params=params)\n",
        "if not response.ok:\n",
        "  response.raise_for_status()\n",
        "  sys.exit()\n",
        "\n",
        "data = response.json()\n",
        "\n",
        "print(json.dumps(data, indent=2)[:1000])"
      ]
    },
    {
      "cell_type": "markdown",
      "metadata": {
        "id": "I9By_k-AZbeK"
      },
      "source": [
        "Now let's extract Uniprot accession number"
      ]
    },
    {
      "cell_type": "code",
      "execution_count": null,
      "metadata": {
        "id": "FLiBFLc6ZREa"
      },
      "outputs": [],
      "source": [
        "uniprot_accession = # your code\n",
        "uniprot_accession"
      ]
    },
    {
      "cell_type": "markdown",
      "metadata": {
        "id": "RX_81iiAaPzi"
      },
      "source": [
        "## Downloading structure from Alphafold database\n",
        "First we get alphafold for this protein (based on Uniprot accession)."
      ]
    },
    {
      "cell_type": "code",
      "execution_count": null,
      "metadata": {
        "id": "PQ_eFQpTaeLi"
      },
      "outputs": [],
      "source": [
        "url = f\"https://alphafold.ebi.ac.uk/api/prediction/{uniprot_accession}\"\n",
        "\n",
        "try:\n",
        "    response = requests.get(url)\n",
        "    if response.status_code == 200:\n",
        "        alphafold_data = response.json()\n",
        "        print(alphafold_data)\n",
        "    else:\n",
        "        print(f\"Error: {response.status_code} - {response.text}\")\n",
        "\n",
        "except requests.exceptions.RequestException as e:\n",
        "    print(f\"Request failed: {e}\")"
      ]
    },
    {
      "cell_type": "markdown",
      "metadata": {
        "id": "In1xXjHjcnMc"
      },
      "source": [
        "Now we can download .pdb file"
      ]
    },
    {
      "cell_type": "code",
      "execution_count": null,
      "metadata": {
        "id": "xva6ueqvcamy"
      },
      "outputs": [],
      "source": [
        "pdb_url = alphafold_data[0]['pdbUrl']\n",
        "print(pdb_url)\n",
        "local_filename = pdb_url.split('/')[-1]\n",
        "try:\n",
        "    response = requests.get(pdb_url, stream=True)\n",
        "\n",
        "    if response.status_code == 200:\n",
        "        with open(local_filename, \"wb\") as file:\n",
        "            file.write(response.content)\n",
        "        print(f\"File downloaded successfully as '{local_filename}'\")\n",
        "    else:\n",
        "        print(f\"Error: {response.status_code} - {response.text}\")\n",
        "\n",
        "except requests.exceptions.RequestException as e:\n",
        "    print(f\"Request failed: {e}\")"
      ]
    },
    {
      "cell_type": "markdown",
      "metadata": {
        "id": "EkQxrYZIep6Q"
      },
      "source": [
        "Now let's see if our file really contains structure of a protein."
      ]
    },
    {
      "cell_type": "code",
      "execution_count": null,
      "metadata": {
        "id": "SPRyDoyWdbJb"
      },
      "outputs": [],
      "source": [
        "with open(local_filename, \"r\") as f:\n",
        "    pdb_data = f.read()\n",
        "# using py3dmol show 3D structure of this protein (as previously)"
      ]
    },
    {
      "cell_type": "markdown",
      "source": [
        "There is tons of other functionality in Biopython, this is just a very small fraction of the modules, see the extensive [official tutorial documentation](http://biopython.org/DIST/docs/tutorial/Tutorial.html). Also, don't hesitate to contact us if you have any more questions: [KNB webside](http://bioinformatyka.mimuw.edu.pl/pl/). Thank you for attending our workshops! We hope you had fun!"
      ],
      "metadata": {
        "id": "RHdEWAHgqBkC"
      }
    }
  ],
  "metadata": {
    "anaconda-cloud": {},
    "kernelspec": {
      "display_name": "Python 3",
      "language": "python",
      "name": "python3"
    },
    "language_info": {
      "codemirror_mode": {
        "name": "ipython",
        "version": 3
      },
      "file_extension": ".py",
      "mimetype": "text/x-python",
      "name": "python",
      "nbconvert_exporter": "python",
      "pygments_lexer": "ipython3",
      "version": "3.8.2"
    },
    "colab": {
      "provenance": []
    }
  },
  "nbformat": 4,
  "nbformat_minor": 0
}